{
 "cells": [
  {
   "cell_type": "markdown",
   "metadata": {},
   "source": [
    "# Assignment Directions\n",
    "\n",
    "In a code cell below this one, pull your data into a dataframe.\n",
    "\n",
    "In a markdown cell, the student should explain the dataset they have chosen and the question they are trying to answer. Why do you think this dataset is interesting? What do you hope to learn from it? What are your goals?"
   ]
  }
 ],
 "metadata": {
  "language_info": {
   "name": "python"
  }
 },
 "nbformat": 4,
 "nbformat_minor": 2
}
# Dataset Explanation & Research Question

For this assignment, I have chosen to analyze a dataset from [Kaggle’s Global CO₂ Emissions Dataset](https://www.kaggle.com/datasets/thedevastator/global-fossil-co2-emissions-by-country-2002-2022), which contains fossil fuel CO₂ emissions data by country from 2002 to 2022. This dataset includes variables such as total emissions, emissions per capita, population, and GDP.

## Research Question

**How do GDP and population growth relate to the change in CO₂ emissions across different countries over the last two decades?**

## Why This Dataset?

Climate change is one of the most pressing global issues today. Understanding the drivers behind CO₂ emissions can help identify which countries are making progress in decoupling economic growth from environmental degradation. This dataset allows us to examine that balance.

## What I Hope to Learn

By analyzing this dataset, I aim to:

- Identify trends in emissions per capita vs. GDP per capita.
- Compare high-emitting vs. low-emitting countries over time.
- Determine if countries with growing economies are also increasing emissions, or if there is evidence of sustainable growth.

## Goals

My goal is to use data visualization and correlation analysis to assess how economic and population factors influence a country’s emissions. This will help understand which nations are succeeding in sustainable development and which might need to reassess their environmental policies.

